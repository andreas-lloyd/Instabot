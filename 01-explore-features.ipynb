{
 "cells": [
  {
   "cell_type": "markdown",
   "metadata": {},
   "source": [
    "https://github.com/LevPasha/Instagram-API-python/blob/master/InstagramAPI/InstagramAPI.py"
   ]
  },
  {
   "cell_type": "code",
   "execution_count": 1,
   "metadata": {},
   "outputs": [],
   "source": [
    "from InstagramAPI import InstagramAPI\n",
    "from pathlib import Path\n",
    "import json\n",
    "\n",
    "cred_path = Path('/home/andreas/credentials.txt')"
   ]
  },
  {
   "cell_type": "code",
   "execution_count": 2,
   "metadata": {},
   "outputs": [],
   "source": [
    "with cred_path.open() as cred_file:\n",
    "    credentials = json.load(cred_file)"
   ]
  },
  {
   "cell_type": "code",
   "execution_count": 3,
   "metadata": {},
   "outputs": [],
   "source": [
    "API = InstagramAPI(credentials['username'], credentials['password'])"
   ]
  },
  {
   "cell_type": "code",
   "execution_count": 4,
   "metadata": {},
   "outputs": [
    {
     "name": "stdout",
     "output_type": "stream",
     "text": [
      "Request return 429 error!\n",
      "{'message': 'Please wait a few minutes before you try again.', 'status': 'fail'}\n",
      "Request return 404 error!\n",
      "Login success!\n",
      "\n"
     ]
    },
    {
     "data": {
      "text/plain": [
       "True"
      ]
     },
     "execution_count": 4,
     "metadata": {},
     "output_type": "execute_result"
    }
   ],
   "source": [
    "API.login()"
   ]
  },
  {
   "cell_type": "code",
   "execution_count": 5,
   "metadata": {},
   "outputs": [
    {
     "data": {
      "text/plain": [
       "True"
      ]
     },
     "execution_count": 5,
     "metadata": {},
     "output_type": "execute_result"
    }
   ],
   "source": [
    "API.getProfileData()"
   ]
  },
  {
   "cell_type": "code",
   "execution_count": 6,
   "metadata": {},
   "outputs": [
    {
     "data": {
      "text/plain": [
       "dict_keys(['user', 'status'])"
      ]
     },
     "execution_count": 6,
     "metadata": {},
     "output_type": "execute_result"
    }
   ],
   "source": [
    "API.LastJson.keys()"
   ]
  },
  {
   "cell_type": "code",
   "execution_count": 7,
   "metadata": {},
   "outputs": [
    {
     "data": {
      "text/plain": [
       "{'allowed_commenter_type': 'any',\n",
       " 'biography': '♥️ Valencia 🏡 Madrid \\n✉️ bellaclosetandlifestyle@gmail.com\\n🌸 https://www.21buttons.com/bellacloset',\n",
       " 'birthday': None,\n",
       " 'can_link_entities_in_bio': False,\n",
       " 'country_code': 34,\n",
       " 'email': 'bellaclosetandlifestyle@gmail.com',\n",
       " 'external_url': '',\n",
       " 'full_name': 'Bella',\n",
       " 'gender': 2,\n",
       " 'has_anonymous_profile_picture': False,\n",
       " 'has_biography_translation': True,\n",
       " 'hd_profile_pic_url_info': {'height': 991,\n",
       "  'url': 'https://scontent-mad1-1.cdninstagram.com/vp/c6b437b4c823eac1b2b4b5388d61e1ec/5D948446/t51.2885-19/60857438_630761720730923_5242301648293855232_n.jpg?_nc_ht=scontent-mad1-1.cdninstagram.com',\n",
       "  'width': 991},\n",
       " 'hd_profile_pic_versions': [{'height': 320,\n",
       "   'url': 'https://scontent-mad1-1.cdninstagram.com/vp/72917f6100ee4ffe42514ce43c54edb6/5D86DC4C/t51.2885-19/s320x320/60857438_630761720730923_5242301648293855232_n.jpg?_nc_ht=scontent-mad1-1.cdninstagram.com',\n",
       "   'width': 320},\n",
       "  {'height': 640,\n",
       "   'url': 'https://scontent-mad1-1.cdninstagram.com/vp/8b479d277111f5ec9f34ad4ca15a0251/5D8EB923/t51.2885-19/s640x640/60857438_630761720730923_5242301648293855232_n.jpg?_nc_ht=scontent-mad1-1.cdninstagram.com',\n",
       "   'width': 640}],\n",
       " 'is_private': False,\n",
       " 'is_verified': False,\n",
       " 'national_number': 664454677,\n",
       " 'phone_number': '+34664454677',\n",
       " 'pk': 7144197445,\n",
       " 'profile_pic_id': '2057454005434515370_7144197445',\n",
       " 'profile_pic_url': 'https://scontent-mad1-1.cdninstagram.com/vp/90ed4e3fea56e1c052df6a032fd56e8d/5D7F4ABC/t51.2885-19/s150x150/60857438_630761720730923_5242301648293855232_n.jpg?_nc_ht=scontent-mad1-1.cdninstagram.com',\n",
       " 'reel_auto_archive': 'off',\n",
       " 'show_conversion_edit_entry': True,\n",
       " 'username': 'bellaclosetandlifestyle'}"
      ]
     },
     "execution_count": 7,
     "metadata": {},
     "output_type": "execute_result"
    }
   ],
   "source": [
    "API.LastJson['user']"
   ]
  },
  {
   "cell_type": "markdown",
   "metadata": {},
   "source": [
    "Everything works by invoking some method and then retrieving `LastJson`"
   ]
  },
  {
   "cell_type": "code",
   "execution_count": 8,
   "metadata": {},
   "outputs": [],
   "source": [
    "my_user_id = API.LastJson['user']['pk']"
   ]
  },
  {
   "cell_type": "code",
   "execution_count": 9,
   "metadata": {},
   "outputs": [
    {
     "data": {
      "text/plain": [
       "True"
      ]
     },
     "execution_count": 9,
     "metadata": {},
     "output_type": "execute_result"
    }
   ],
   "source": [
    "API.getUsernameInfo(my_user_id)"
   ]
  },
  {
   "cell_type": "code",
   "execution_count": 10,
   "metadata": {},
   "outputs": [
    {
     "data": {
      "text/plain": [
       "dict_keys(['user', 'status'])"
      ]
     },
     "execution_count": 10,
     "metadata": {},
     "output_type": "execute_result"
    }
   ],
   "source": [
    "API.LastJson.keys()"
   ]
  },
  {
   "cell_type": "code",
   "execution_count": 11,
   "metadata": {},
   "outputs": [
    {
     "data": {
      "text/plain": [
       "{'account_type': 1,\n",
       " 'aggregate_promote_engagement': True,\n",
       " 'allowed_commenter_type': 'any',\n",
       " 'auto_expand_chaining': False,\n",
       " 'besties_count': 0,\n",
       " 'biography': '♥️ Valencia 🏡 Madrid \\n✉️ bellaclosetandlifestyle@gmail.com\\n🌸 https://www.21buttons.com/bellacloset',\n",
       " 'can_be_reported_as_fraud': False,\n",
       " 'can_be_tagged_as_sponsor': False,\n",
       " 'can_boost_post': False,\n",
       " 'can_convert_to_business': True,\n",
       " 'can_create_sponsor_tags': False,\n",
       " 'can_follow_hashtag': False,\n",
       " 'can_see_organic_insights': False,\n",
       " 'can_tag_products_from_merchants': False,\n",
       " 'external_url': '',\n",
       " 'feed_post_reshare_disabled': False,\n",
       " 'follower_count': 115,\n",
       " 'following_count': 150,\n",
       " 'following_tag_count': 0,\n",
       " 'full_name': 'Bella',\n",
       " 'has_anonymous_profile_picture': False,\n",
       " 'has_biography_translation': True,\n",
       " 'has_chaining': True,\n",
       " 'has_highlight_reels': False,\n",
       " 'has_placed_orders': False,\n",
       " 'has_profile_video_feed': False,\n",
       " 'hd_profile_pic_url_info': {'height': 991,\n",
       "  'url': 'https://scontent-mad1-1.cdninstagram.com/vp/c6b437b4c823eac1b2b4b5388d61e1ec/5D948446/t51.2885-19/60857438_630761720730923_5242301648293855232_n.jpg?_nc_ht=scontent-mad1-1.cdninstagram.com',\n",
       "  'width': 991},\n",
       " 'hd_profile_pic_versions': [{'height': 320,\n",
       "   'url': 'https://scontent-mad1-1.cdninstagram.com/vp/72917f6100ee4ffe42514ce43c54edb6/5D86DC4C/t51.2885-19/s320x320/60857438_630761720730923_5242301648293855232_n.jpg?_nc_ht=scontent-mad1-1.cdninstagram.com',\n",
       "   'width': 320},\n",
       "  {'height': 640,\n",
       "   'url': 'https://scontent-mad1-1.cdninstagram.com/vp/8b479d277111f5ec9f34ad4ca15a0251/5D8EB923/t51.2885-19/s640x640/60857438_630761720730923_5242301648293855232_n.jpg?_nc_ht=scontent-mad1-1.cdninstagram.com',\n",
       "   'width': 640}],\n",
       " 'highlight_reshare_disabled': False,\n",
       " 'include_direct_blacklist_status': True,\n",
       " 'is_business': False,\n",
       " 'is_call_to_action_enabled': None,\n",
       " 'is_eligible_to_show_fb_cross_sharing_nux': False,\n",
       " 'is_interest_account': False,\n",
       " 'is_needy': False,\n",
       " 'is_potential_business': False,\n",
       " 'is_private': False,\n",
       " 'is_profile_action_needed': False,\n",
       " 'is_verified': False,\n",
       " 'is_video_creator': False,\n",
       " 'media_count': 16,\n",
       " 'page_id_for_new_suma_biz_account': None,\n",
       " 'pk': 7144197445,\n",
       " 'profile_pic_id': '2057454005434515370_7144197445',\n",
       " 'profile_pic_url': 'https://scontent-mad1-1.cdninstagram.com/vp/90ed4e3fea56e1c052df6a032fd56e8d/5D7F4ABC/t51.2885-19/s150x150/60857438_630761720730923_5242301648293855232_n.jpg?_nc_ht=scontent-mad1-1.cdninstagram.com',\n",
       " 'recently_bestied_by_count': 0,\n",
       " 'reel_auto_archive': 'off',\n",
       " 'show_besties_badge': True,\n",
       " 'show_business_conversion_icon': False,\n",
       " 'show_conversion_edit_entry': True,\n",
       " 'show_insights_terms': False,\n",
       " 'total_ar_effects': 0,\n",
       " 'total_igtv_videos': 0,\n",
       " 'username': 'bellaclosetandlifestyle',\n",
       " 'usertag_review_enabled': False,\n",
       " 'usertags_count': 0}"
      ]
     },
     "execution_count": 11,
     "metadata": {},
     "output_type": "execute_result"
    }
   ],
   "source": [
    "API.LastJson['user']"
   ]
  },
  {
   "cell_type": "markdown",
   "metadata": {},
   "source": [
    "To get the media on someone's feed - need to getUserFeed using the user ID, and a max ID - the max id exists because cannot load unlimited number of posts, so ideally would have to cycle through - 18 retrievals per call"
   ]
  },
  {
   "cell_type": "code",
   "execution_count": 12,
   "metadata": {},
   "outputs": [
    {
     "data": {
      "text/plain": [
       "True"
      ]
     },
     "execution_count": 12,
     "metadata": {},
     "output_type": "execute_result"
    }
   ],
   "source": [
    "API.getUserFeed(my_user_id)"
   ]
  },
  {
   "cell_type": "code",
   "execution_count": 13,
   "metadata": {},
   "outputs": [
    {
     "data": {
      "text/plain": [
       "dict_keys(['items', 'num_results', 'more_available', 'auto_load_more_enabled', 'status'])"
      ]
     },
     "execution_count": 13,
     "metadata": {},
     "output_type": "execute_result"
    }
   ],
   "source": [
    "API.LastJson.keys()"
   ]
  },
  {
   "cell_type": "code",
   "execution_count": 14,
   "metadata": {},
   "outputs": [
    {
     "data": {
      "text/plain": [
       "False"
      ]
     },
     "execution_count": 14,
     "metadata": {},
     "output_type": "execute_result"
    }
   ],
   "source": [
    "# If have more\n",
    "API.LastJson['more_available']"
   ]
  },
  {
   "cell_type": "code",
   "execution_count": 15,
   "metadata": {},
   "outputs": [
    {
     "data": {
      "text/plain": [
       "16"
      ]
     },
     "execution_count": 15,
     "metadata": {},
     "output_type": "execute_result"
    }
   ],
   "source": [
    "# Number retrieved\n",
    "API.LastJson['num_results']"
   ]
  },
  {
   "cell_type": "code",
   "execution_count": 16,
   "metadata": {},
   "outputs": [
    {
     "data": {
      "text/plain": [
       "16"
      ]
     },
     "execution_count": 16,
     "metadata": {},
     "output_type": "execute_result"
    }
   ],
   "source": [
    "len(API.LastJson['items'])"
   ]
  },
  {
   "cell_type": "code",
   "execution_count": 17,
   "metadata": {},
   "outputs": [],
   "source": [
    "# Just loads a list of all items that are available\n",
    "first_post = API.LastJson['items'][0]"
   ]
  },
  {
   "cell_type": "code",
   "execution_count": 18,
   "metadata": {},
   "outputs": [
    {
     "data": {
      "text/plain": [
       "dict_keys(['taken_at', 'pk', 'id', 'device_timestamp', 'media_type', 'code', 'client_cache_key', 'filter_type', 'carousel_media_count', 'carousel_media', 'can_see_insights_as_brand', 'location', 'lat', 'lng', 'user', 'can_viewer_reshare', 'caption_is_edited', 'direct_reply_to_author_enabled', 'comment_likes_enabled', 'comment_threading_enabled', 'has_more_comments', 'max_num_visible_preview_comments', 'preview_comments', 'can_view_more_preview_comments', 'comment_count', 'inline_composer_display_condition', 'like_count', 'has_liked', 'top_likers', 'facepile_top_likers', 'likers', 'photo_of_you', 'caption', 'fb_user_tags', 'can_viewer_save', 'organic_tracking_token'])"
      ]
     },
     "execution_count": 18,
     "metadata": {},
     "output_type": "execute_result"
    }
   ],
   "source": [
    "# Just loads a list of all items that are available\n",
    "first_post.keys()"
   ]
  },
  {
   "cell_type": "code",
   "execution_count": 19,
   "metadata": {},
   "outputs": [
    {
     "name": "stdout",
     "output_type": "stream",
     "text": [
      "Looking at key \n",
      "taken_at\n",
      "\n",
      "1559488046\n",
      "\n",
      "\n",
      "\n",
      "\n",
      "Looking at key \n",
      "pk\n",
      "\n",
      "2057457314396465550\n",
      "\n",
      "\n",
      "\n",
      "\n",
      "Looking at key \n",
      "id\n",
      "\n",
      "2057457314396465550_7144197445\n",
      "\n",
      "\n",
      "\n",
      "\n",
      "Looking at key \n",
      "device_timestamp\n",
      "\n",
      "134210898752558\n",
      "\n",
      "\n",
      "\n",
      "\n",
      "Looking at key \n",
      "media_type\n",
      "\n",
      "8\n",
      "\n",
      "\n",
      "\n",
      "\n",
      "Looking at key \n",
      "code\n",
      "\n",
      "ByNjobNIWmO\n",
      "\n",
      "\n",
      "\n",
      "\n",
      "Looking at key \n",
      "client_cache_key\n",
      "\n",
      "MjA1NzQ1NzMxNDM5NjQ2NTU1MA==.2\n",
      "\n",
      "\n",
      "\n",
      "\n",
      "Looking at key \n",
      "filter_type\n",
      "\n",
      "0\n",
      "\n",
      "\n",
      "\n",
      "\n",
      "Looking at key \n",
      "carousel_media_count\n",
      "\n",
      "3\n",
      "\n",
      "\n",
      "\n",
      "\n",
      "Looking at key \n",
      "carousel_media\n",
      "\n",
      "[{'id': '2057457293970228427_7144197445', 'media_type': 1, 'image_versions2': {'candidates': [{'width': 750, 'height': 750, 'url': 'https://scontent-mad1-1.cdninstagram.com/vp/2b5f21a522ea8037b17974a3f2b96d6e/5D87CA70/t51.2885-15/sh0.08/e35/s750x750/61099412_1039830902873007_4073820079949574734_n.jpg?_nc_ht=scontent-mad1-1.cdninstagram.com&ig_cache_key=MjA1NzQ1NzI5Mzk3MDIyODQyNw%3D%3D.2'}, {'width': 240, 'height': 240, 'url': 'https://scontent-mad1-1.cdninstagram.com/vp/378ef08f73158868e826245f04dba556/5D7DA837/t51.2885-15/e35/s240x240/61099412_1039830902873007_4073820079949574734_n.jpg?_nc_ht=scontent-mad1-1.cdninstagram.com&ig_cache_key=MjA1NzQ1NzI5Mzk3MDIyODQyNw%3D%3D.2'}]}, 'original_width': 1080, 'original_height': 1080, 'pk': 2057457293970228427, 'carousel_parent_id': '2057457314396465550_7144197445', 'fb_user_tags': {'in': []}}, {'id': '2057457293953380981_7144197445', 'media_type': 1, 'image_versions2': {'candidates': [{'width': 750, 'height': 750, 'url': 'https://scontent-mad1-1.cdninstagram.com/vp/9331b61dccdf8a4b2fe2f5c9cadf8bc8/5D78C4B4/t51.2885-15/sh0.08/e35/s750x750/62362670_822979094748441_7812046302299264825_n.jpg?_nc_ht=scontent-mad1-1.cdninstagram.com&ig_cache_key=MjA1NzQ1NzI5Mzk1MzM4MDk4MQ%3D%3D.2'}, {'width': 240, 'height': 240, 'url': 'https://scontent-mad1-1.cdninstagram.com/vp/9b8d7e8c0aa5f31aa28e55c84a561e9a/5D83B459/t51.2885-15/e35/s240x240/62362670_822979094748441_7812046302299264825_n.jpg?_nc_ht=scontent-mad1-1.cdninstagram.com&ig_cache_key=MjA1NzQ1NzI5Mzk1MzM4MDk4MQ%3D%3D.2'}]}, 'original_width': 1080, 'original_height': 1080, 'pk': 2057457293953380981, 'carousel_parent_id': '2057457314396465550_7144197445', 'fb_user_tags': {'in': []}}, {'id': '2057457293970240291_7144197445', 'media_type': 1, 'image_versions2': {'candidates': [{'width': 750, 'height': 750, 'url': 'https://scontent-mad1-1.cdninstagram.com/vp/6a3e98161fdae36549e2975d914fe039/5D883BBA/t51.2885-15/sh0.08/e35/s750x750/60719509_453846855445339_8677749599637608951_n.jpg?_nc_ht=scontent-mad1-1.cdninstagram.com&ig_cache_key=MjA1NzQ1NzI5Mzk3MDI0MDI5MQ%3D%3D.2'}, {'width': 240, 'height': 240, 'url': 'https://scontent-mad1-1.cdninstagram.com/vp/ce15db0e675e2c6184553cf9ab0ec557/5D900257/t51.2885-15/e35/s240x240/60719509_453846855445339_8677749599637608951_n.jpg?_nc_ht=scontent-mad1-1.cdninstagram.com&ig_cache_key=MjA1NzQ1NzI5Mzk3MDI0MDI5MQ%3D%3D.2'}]}, 'original_width': 1080, 'original_height': 1080, 'pk': 2057457293970240291, 'carousel_parent_id': '2057457314396465550_7144197445', 'fb_user_tags': {'in': []}}]\n",
      "\n",
      "\n",
      "\n",
      "\n",
      "Looking at key \n",
      "can_see_insights_as_brand\n",
      "\n",
      "False\n",
      "\n",
      "\n",
      "\n",
      "\n",
      "Looking at key \n",
      "location\n",
      "\n",
      "{'pk': 134914390575231, 'name': 'New York Café, Budapest, HU', 'address': 'Erzsébet krt. 11.', 'city': '', 'short_name': 'New York Café', 'lng': 19.070439161324, 'lat': 47.498802018868, 'external_source': 'facebook_places', 'facebook_places_id': 134914390575231}\n",
      "\n",
      "\n",
      "\n",
      "\n",
      "Looking at key \n",
      "lat\n",
      "\n",
      "47.498802018868\n",
      "\n",
      "\n",
      "\n",
      "\n",
      "Looking at key \n",
      "lng\n",
      "\n",
      "19.070439161324\n",
      "\n",
      "\n",
      "\n",
      "\n",
      "Looking at key \n",
      "user\n",
      "\n",
      "{'pk': 7144197445, 'username': 'bellaclosetandlifestyle', 'full_name': 'Bella', 'is_private': False, 'profile_pic_url': 'https://scontent-mad1-1.cdninstagram.com/vp/90ed4e3fea56e1c052df6a032fd56e8d/5D7F4ABC/t51.2885-19/s150x150/60857438_630761720730923_5242301648293855232_n.jpg?_nc_ht=scontent-mad1-1.cdninstagram.com', 'profile_pic_id': '2057454005434515370_7144197445', 'is_verified': False, 'has_anonymous_profile_picture': False, 'can_boost_post': False, 'can_see_organic_insights': False, 'show_insights_terms': False, 'reel_auto_archive': 'off', 'is_unpublished': False, 'allowed_commenter_type': 'any'}\n",
      "\n",
      "\n",
      "\n",
      "\n",
      "Looking at key \n",
      "can_viewer_reshare\n",
      "\n",
      "True\n",
      "\n",
      "\n",
      "\n",
      "\n",
      "Looking at key \n",
      "caption_is_edited\n",
      "\n",
      "False\n",
      "\n",
      "\n",
      "\n",
      "\n",
      "Looking at key \n",
      "direct_reply_to_author_enabled\n",
      "\n",
      "True\n",
      "\n",
      "\n",
      "\n",
      "\n",
      "Looking at key \n",
      "comment_likes_enabled\n",
      "\n",
      "True\n",
      "\n",
      "\n",
      "\n",
      "\n",
      "Looking at key \n",
      "comment_threading_enabled\n",
      "\n",
      "False\n",
      "\n",
      "\n",
      "\n",
      "\n",
      "Looking at key \n",
      "has_more_comments\n",
      "\n",
      "True\n",
      "\n",
      "\n",
      "\n",
      "\n",
      "Looking at key \n",
      "max_num_visible_preview_comments\n",
      "\n",
      "2\n",
      "\n",
      "\n",
      "\n",
      "\n",
      "Looking at key \n",
      "preview_comments\n",
      "\n",
      "[]\n",
      "\n",
      "\n",
      "\n",
      "\n",
      "Looking at key \n",
      "can_view_more_preview_comments\n",
      "\n",
      "False\n",
      "\n",
      "\n",
      "\n",
      "\n",
      "Looking at key \n",
      "comment_count\n",
      "\n",
      "1\n",
      "\n",
      "\n",
      "\n",
      "\n",
      "Looking at key \n",
      "inline_composer_display_condition\n",
      "\n",
      "impression_trigger\n",
      "\n",
      "\n",
      "\n",
      "\n",
      "Looking at key \n",
      "like_count\n",
      "\n",
      "8\n",
      "\n",
      "\n",
      "\n",
      "\n",
      "Looking at key \n",
      "has_liked\n",
      "\n",
      "False\n",
      "\n",
      "\n",
      "\n",
      "\n",
      "Looking at key \n",
      "top_likers\n",
      "\n",
      "['mayor_de_edad']\n",
      "\n",
      "\n",
      "\n",
      "\n",
      "Looking at key \n",
      "facepile_top_likers\n",
      "\n",
      "[{'pk': 1463186994, 'username': 'mayor_de_edad', 'full_name': 'Carmen Arlandis', 'is_private': False, 'profile_pic_url': 'https://scontent-mad1-1.cdninstagram.com/vp/0179c082c5af1b1c581c6720573c2427/5D7F4507/t51.2885-19/s150x150/47584364_1030292467138142_5525215413278867456_n.jpg?_nc_ht=scontent-mad1-1.cdninstagram.com', 'profile_pic_id': '1950014135023744156_1463186994', 'is_verified': False}, {'pk': 5645584868, 'username': 'eve_shooting', 'full_name': 'Eve Shooting', 'is_private': False, 'profile_pic_url': 'https://scontent-mad1-1.cdninstagram.com/vp/87b800e58ca177673c0a35aea5a69046/5D993ABB/t51.2885-19/s150x150/57284743_2058637424428893_7529558968218157056_n.jpg?_nc_ht=scontent-mad1-1.cdninstagram.com', 'profile_pic_id': '2037426925135940076_5645584868', 'is_verified': False}]\n",
      "\n",
      "\n",
      "\n",
      "\n",
      "Looking at key \n",
      "likers\n",
      "\n",
      "[{'pk': 1448759603, 'username': 'dre_lloyd1', 'full_name': 'Andreas', 'is_private': True, 'profile_pic_url': 'https://scontent-mad1-1.cdninstagram.com/vp/811e11365a544509d1078cbd6d89e117/5D8FAD9E/t51.2885-19/s150x150/17332870_1830834263832722_4889769598766809088_a.jpg?_nc_ht=scontent-mad1-1.cdninstagram.com', 'profile_pic_id': '1473299781567759301_1448759603', 'is_verified': False}, {'pk': 1463186994, 'username': 'mayor_de_edad', 'full_name': 'Carmen Arlandis', 'is_private': False, 'profile_pic_url': 'https://scontent-mad1-1.cdninstagram.com/vp/0179c082c5af1b1c581c6720573c2427/5D7F4507/t51.2885-19/s150x150/47584364_1030292467138142_5525215413278867456_n.jpg?_nc_ht=scontent-mad1-1.cdninstagram.com', 'profile_pic_id': '1950014135023744156_1463186994', 'is_verified': False}, {'pk': 12595385988, 'username': 'food_style_333', 'full_name': 'food', 'is_private': False, 'profile_pic_url': 'https://scontent-mad1-1.cdninstagram.com/vp/eb0d5b1eb788cc0d488e8fa03bc2da7b/5D9EB6EF/t51.2885-19/s150x150/60170114_438141436742227_2637259642303938560_n.jpg?_nc_ht=scontent-mad1-1.cdninstagram.com', 'profile_pic_id': '2032784616854957387_12595385988', 'is_verified': False}, {'pk': 5645584868, 'username': 'eve_shooting', 'full_name': 'Eve Shooting', 'is_private': False, 'profile_pic_url': 'https://scontent-mad1-1.cdninstagram.com/vp/87b800e58ca177673c0a35aea5a69046/5D993ABB/t51.2885-19/s150x150/57284743_2058637424428893_7529558968218157056_n.jpg?_nc_ht=scontent-mad1-1.cdninstagram.com', 'profile_pic_id': '2037426925135940076_5645584868', 'is_verified': False}, {'pk': 1072156640, 'username': 'diegorodi16', 'full_name': 'jack daniel´s', 'is_private': True, 'profile_pic_url': 'https://scontent-mad1-1.cdninstagram.com/vp/9383ee25280ec29ac2ddfe8ece014c00/5D80E161/t51.2885-19/s150x150/23164512_190745621494803_1004973255787806720_n.jpg?_nc_ht=scontent-mad1-1.cdninstagram.com', 'profile_pic_id': '1641654497325658475_1072156640', 'is_verified': False}, {'pk': 2216881340, 'username': 'dquestmedia', 'full_name': \"D'Quest Media\", 'is_private': False, 'profile_pic_url': 'https://scontent-mad1-1.cdninstagram.com/vp/c843f06eb4c27877d79a3bb47f47b090/5D97D876/t51.2885-19/s150x150/60162725_333588297316330_5137360582046908416_n.jpg?_nc_ht=scontent-mad1-1.cdninstagram.com', 'profile_pic_id': '2053701846858799398_2216881340', 'is_verified': False}, {'pk': 182011052, 'username': 'reynaskr', 'full_name': '✈ Travel Addict 🌏', 'is_private': False, 'profile_pic_url': 'https://scontent-mad1-1.cdninstagram.com/vp/7cc52ad257e1db9b6c06381a4e35d3ed/5D80F672/t51.2885-19/s150x150/61214326_581904115550822_7048104150927671296_n.jpg?_nc_ht=scontent-mad1-1.cdninstagram.com', 'profile_pic_id': '2055192526819794396_182011052', 'is_verified': False}, {'pk': 8522850793, 'username': 'istalkdavid', 'full_name': 'David Kaprai', 'is_private': False, 'profile_pic_url': 'https://scontent-mad1-1.cdninstagram.com/vp/2e88200cfe4a80340d358064f15f1ba2/5D8502E9/t51.2885-19/s150x150/42736188_492537147895029_6821934222547091456_n.jpg?_nc_ht=scontent-mad1-1.cdninstagram.com', 'profile_pic_id': '1899394790233852759_8522850793', 'is_verified': False}]\n",
      "\n",
      "\n",
      "\n",
      "\n",
      "Looking at key \n",
      "photo_of_you\n",
      "\n",
      "False\n",
      "\n",
      "\n",
      "\n",
      "\n",
      "Looking at key \n",
      "caption\n",
      "\n",
      "{'pk': 18071349331003580, 'user_id': 7144197445, 'text': 'A slice 🍰 of the Big Apple in Budapest\\nWanna go back!!\\n.\\n.\\n.\\n.\\n.\\n.\\n.\\n.\\n.\\n.\\n#cafe #cake #fancy #placestogo #budapest #traveling #brunette #blue #sunday #takemeback #chill #weekend', 'type': 1, 'created_at': 1559488049, 'created_at_utc': 1559488049, 'content_type': 'comment', 'status': 'Active', 'bit_flags': 0, 'user': {'pk': 7144197445, 'username': 'bellaclosetandlifestyle', 'full_name': 'Bella', 'is_private': False, 'profile_pic_url': 'https://scontent-mad1-1.cdninstagram.com/vp/90ed4e3fea56e1c052df6a032fd56e8d/5D7F4ABC/t51.2885-19/s150x150/60857438_630761720730923_5242301648293855232_n.jpg?_nc_ht=scontent-mad1-1.cdninstagram.com', 'profile_pic_id': '2057454005434515370_7144197445', 'is_verified': False, 'has_anonymous_profile_picture': False, 'can_boost_post': False, 'can_see_organic_insights': False, 'show_insights_terms': False, 'reel_auto_archive': 'off', 'is_unpublished': False, 'allowed_commenter_type': 'any'}, 'did_report_as_spam': False, 'share_enabled': False, 'media_id': 2057457314396465550}\n",
      "\n",
      "\n",
      "\n",
      "\n",
      "Looking at key \n",
      "fb_user_tags\n",
      "\n",
      "{'in': []}\n",
      "\n",
      "\n",
      "\n",
      "\n",
      "Looking at key \n",
      "can_viewer_save\n",
      "\n",
      "True\n",
      "\n",
      "\n",
      "\n",
      "\n",
      "Looking at key \n",
      "organic_tracking_token\n",
      "\n",
      "eyJ2ZXJzaW9uIjo1LCJwYXlsb2FkIjp7ImlzX2FuYWx5dGljc190cmFja2VkIjpmYWxzZSwidXVpZCI6IjYyODdjOGE3NTlhNzQzNzI5ZDFmNjNiMjU4MDY5ZGNjMjA1NzQ1NzMxNDM5NjQ2NTU1MCIsInNlcnZlcl90b2tlbiI6IjE1NTk0OTI2MDkwMDB8MjA1NzQ1NzMxNDM5NjQ2NTU1MHw3MTQ0MTk3NDQ1fGU1YzQyM2FiZDY3ZjMxY2UxMDNlZDY2N2Y2MDc5YmEyNzg4MWRjMzIyY2MwYWVhYTA4ZmJmNTA0ODUzZjgyZTQifSwic2lnbmF0dXJlIjoiIn0=\n",
      "\n",
      "\n",
      "\n",
      "\n"
     ]
    }
   ],
   "source": [
    "for key in first_post.keys():\n",
    "    print('Looking at key \\n{}\\n'.format(key))\n",
    "    print(first_post[key])\n",
    "    print('\\n\\n\\n')"
   ]
  },
  {
   "cell_type": "markdown",
   "metadata": {},
   "source": [
    "Have some basic info where we can also cycle by picture, see how many pictures we have in the reel, the comments, the likes, the like count + comment count\n",
    "* Note that we can lose elements if not present (e.g. comments  / likes)\n",
    "* Common to have a sort of \"preview\" type of thing since not everything is loaded\n",
    "* Generally given A LOT of information about the people - typical preview of profile\n",
    "* Note that the PK is what we typically use to do look ups - I guess this is common for media and users"
   ]
  },
  {
   "cell_type": "code",
   "execution_count": 20,
   "metadata": {},
   "outputs": [
    {
     "data": {
      "text/plain": [
       "['API_URL',\n",
       " 'DEVICE_SETTINTS',\n",
       " 'EXPERIMENTS',\n",
       " 'IG_SIG_KEY',\n",
       " 'LastJson',\n",
       " 'LastResponse',\n",
       " 'SIG_KEY_VERSION',\n",
       " 'SendRequest',\n",
       " 'USER_AGENT',\n",
       " '__class__',\n",
       " '__delattr__',\n",
       " '__dict__',\n",
       " '__dir__',\n",
       " '__doc__',\n",
       " '__eq__',\n",
       " '__format__',\n",
       " '__ge__',\n",
       " '__getattribute__',\n",
       " '__gt__',\n",
       " '__hash__',\n",
       " '__init__',\n",
       " '__init_subclass__',\n",
       " '__le__',\n",
       " '__lt__',\n",
       " '__module__',\n",
       " '__ne__',\n",
       " '__new__',\n",
       " '__reduce__',\n",
       " '__reduce_ex__',\n",
       " '__repr__',\n",
       " '__setattr__',\n",
       " '__sizeof__',\n",
       " '__str__',\n",
       " '__subclasshook__',\n",
       " '__weakref__',\n",
       " 'addBroadcastToLive',\n",
       " 'approve',\n",
       " 'autoCompleteUserList',\n",
       " 'backup',\n",
       " 'block',\n",
       " 'buildBody',\n",
       " 'changePassword',\n",
       " 'changeProfilePicture',\n",
       " 'comment',\n",
       " 'configure',\n",
       " 'configureTimelineAlbum',\n",
       " 'configureVideo',\n",
       " 'createBroadcast',\n",
       " 'deleteComment',\n",
       " 'deleteMedia',\n",
       " 'device_id',\n",
       " 'direct_message',\n",
       " 'direct_share',\n",
       " 'editMedia',\n",
       " 'editProfile',\n",
       " 'explore',\n",
       " 'expose',\n",
       " 'fbUserSearch',\n",
       " 'follow',\n",
       " 'generateDeviceId',\n",
       " 'generateSignature',\n",
       " 'generateUUID',\n",
       " 'generateUploadId',\n",
       " 'getDirectShare',\n",
       " 'getFollowingRecentActivity',\n",
       " 'getGeoMedia',\n",
       " 'getHashtagFeed',\n",
       " 'getLikedMedia',\n",
       " 'getLocationFeed',\n",
       " 'getMediaComments',\n",
       " 'getMediaLikers',\n",
       " 'getPendingFollowRequests',\n",
       " 'getPopularFeed',\n",
       " 'getProfileData',\n",
       " 'getRecentActivity',\n",
       " 'getSelfGeoMedia',\n",
       " 'getSelfSavedMedia',\n",
       " 'getSelfUserFeed',\n",
       " 'getSelfUserFollowers',\n",
       " 'getSelfUserTags',\n",
       " 'getSelfUsernameInfo',\n",
       " 'getSelfUsersFollowing',\n",
       " 'getStory',\n",
       " 'getTimeline',\n",
       " 'getTotalFollowers',\n",
       " 'getTotalFollowings',\n",
       " 'getTotalLikedMedia',\n",
       " 'getTotalSelfFollowers',\n",
       " 'getTotalSelfFollowings',\n",
       " 'getTotalSelfUserFeed',\n",
       " 'getTotalUserFeed',\n",
       " 'getUserFeed',\n",
       " 'getUserFollowers',\n",
       " 'getUserFollowings',\n",
       " 'getUserTags',\n",
       " 'getUsernameInfo',\n",
       " 'getv2Inbox',\n",
       " 'getv2Threads',\n",
       " 'ignore',\n",
       " 'isLoggedIn',\n",
       " 'like',\n",
       " 'login',\n",
       " 'logout',\n",
       " 'mediaInfo',\n",
       " 'megaphoneLog',\n",
       " 'password',\n",
       " 'rank_token',\n",
       " 'removeProfilePicture',\n",
       " 'removeSelftag',\n",
       " 's',\n",
       " 'save',\n",
       " 'searchLocation',\n",
       " 'searchTags',\n",
       " 'searchUsername',\n",
       " 'searchUsers',\n",
       " 'setNameAndPhone',\n",
       " 'setPrivateAccount',\n",
       " 'setProxy',\n",
       " 'setPublicAccount',\n",
       " 'setUser',\n",
       " 'startBroadcast',\n",
       " 'stopBroadcast',\n",
       " 'syncFeatures',\n",
       " 'syncFromAdressBook',\n",
       " 'tagFeed',\n",
       " 'throwIfInvalidUsertags',\n",
       " 'timelineFeed',\n",
       " 'token',\n",
       " 'unblock',\n",
       " 'unfollow',\n",
       " 'unlike',\n",
       " 'unsave',\n",
       " 'uploadAlbum',\n",
       " 'uploadPhoto',\n",
       " 'uploadVideo',\n",
       " 'userFriendship',\n",
       " 'username',\n",
       " 'username_id',\n",
       " 'uuid']"
      ]
     },
     "execution_count": 20,
     "metadata": {},
     "output_type": "execute_result"
    }
   ],
   "source": [
    "dir(API)"
   ]
  },
  {
   "cell_type": "code",
   "execution_count": 21,
   "metadata": {},
   "outputs": [
    {
     "data": {
      "text/plain": [
       "139"
      ]
     },
     "execution_count": 21,
     "metadata": {},
     "output_type": "execute_result"
    }
   ],
   "source": [
    "len(dir(API))"
   ]
  },
  {
   "cell_type": "code",
   "execution_count": 22,
   "metadata": {},
   "outputs": [
    {
     "data": {
      "text/plain": [
       "128"
      ]
     },
     "execution_count": 22,
     "metadata": {},
     "output_type": "execute_result"
    }
   ],
   "source": [
    "len(dir(InstagramAPI))"
   ]
  },
  {
   "cell_type": "markdown",
   "metadata": {},
   "source": [
    "Note that there is a lot of different things we can do here, like getting our followers etc."
   ]
  },
  {
   "cell_type": "code",
   "execution_count": 23,
   "metadata": {},
   "outputs": [
    {
     "data": {
      "text/plain": [
       "True"
      ]
     },
     "execution_count": 23,
     "metadata": {},
     "output_type": "execute_result"
    }
   ],
   "source": [
    "message_text = 'Hey baby ;)'\n",
    "API.direct_message(message_text, 1448759603)"
   ]
  },
  {
   "cell_type": "code",
   "execution_count": 24,
   "metadata": {},
   "outputs": [
    {
     "data": {
      "text/plain": [
       "True"
      ]
     },
     "execution_count": 24,
     "metadata": {},
     "output_type": "execute_result"
    }
   ],
   "source": [
    "tag = 'travel'\n",
    "API.searchTags(tag)"
   ]
  },
  {
   "cell_type": "code",
   "execution_count": 25,
   "metadata": {},
   "outputs": [
    {
     "data": {
      "text/plain": [
       "dict_keys(['results', 'has_more', 'rank_token', 'status'])"
      ]
     },
     "execution_count": 25,
     "metadata": {},
     "output_type": "execute_result"
    }
   ],
   "source": [
    "API.LastJson.keys()"
   ]
  },
  {
   "cell_type": "code",
   "execution_count": 26,
   "metadata": {},
   "outputs": [
    {
     "data": {
      "text/plain": [
       "True"
      ]
     },
     "execution_count": 26,
     "metadata": {},
     "output_type": "execute_result"
    }
   ],
   "source": [
    "API.LastJson['has_more']"
   ]
  },
  {
   "cell_type": "code",
   "execution_count": 27,
   "metadata": {},
   "outputs": [
    {
     "data": {
      "text/plain": [
       "'7144197445_51847225-b96d-4316-8282-5cf61dafef03'"
      ]
     },
     "execution_count": 27,
     "metadata": {},
     "output_type": "execute_result"
    }
   ],
   "source": [
    "API.LastJson['rank_token']"
   ]
  },
  {
   "cell_type": "code",
   "execution_count": 29,
   "metadata": {},
   "outputs": [
    {
     "data": {
      "text/plain": [
       "[{'allow_following': None,\n",
       "  'allow_muting_story': None,\n",
       "  'debug_info': None,\n",
       "  'follow_button_text': None,\n",
       "  'follow_status': None,\n",
       "  'following': None,\n",
       "  'formatted_media_count': '410M',\n",
       "  'id': 17843819167049166,\n",
       "  'media_count': 410463253,\n",
       "  'name': 'travel',\n",
       "  'non_violating': None,\n",
       "  'profile_pic_url': None,\n",
       "  'related_tags': None,\n",
       "  'search_result_subtitle': 'Followed by eva_vintage',\n",
       "  'show_follow_drop_down': None,\n",
       "  'social_context': None,\n",
       "  'social_context_profile_links': None,\n",
       "  'subtitle': None},\n",
       " {'allow_following': None,\n",
       "  'allow_muting_story': None,\n",
       "  'debug_info': None,\n",
       "  'follow_button_text': None,\n",
       "  'follow_status': None,\n",
       "  'following': None,\n",
       "  'formatted_media_count': '79.4M',\n",
       "  'id': 17841563296102932,\n",
       "  'media_count': 79470890,\n",
       "  'name': 'travelphotography',\n",
       "  'non_violating': None,\n",
       "  'profile_pic_url': None,\n",
       "  'related_tags': None,\n",
       "  'search_result_subtitle': '79.4m posts',\n",
       "  'show_follow_drop_down': None,\n",
       "  'social_context': None,\n",
       "  'social_context_profile_links': None,\n",
       "  'subtitle': None},\n",
       " {'allow_following': None,\n",
       "  'allow_muting_story': None,\n",
       "  'debug_info': None,\n",
       "  'follow_button_text': None,\n",
       "  'follow_status': None,\n",
       "  'following': None,\n",
       "  'formatted_media_count': '43.2M',\n",
       "  'id': 17843735230026917,\n",
       "  'media_count': 43246230,\n",
       "  'name': 'travelblogger',\n",
       "  'non_violating': None,\n",
       "  'profile_pic_url': None,\n",
       "  'related_tags': None,\n",
       "  'search_result_subtitle': 'Followed by eva_vintage',\n",
       "  'show_follow_drop_down': None,\n",
       "  'social_context': None,\n",
       "  'social_context_profile_links': None,\n",
       "  'subtitle': None},\n",
       " {'allow_following': None,\n",
       "  'allow_muting_story': None,\n",
       "  'debug_info': None,\n",
       "  'follow_button_text': None,\n",
       "  'follow_status': None,\n",
       "  'following': None,\n",
       "  'formatted_media_count': '63.2M',\n",
       "  'id': 17841562936101189,\n",
       "  'media_count': 63233992,\n",
       "  'name': 'traveling',\n",
       "  'non_violating': None,\n",
       "  'profile_pic_url': None,\n",
       "  'related_tags': None,\n",
       "  'search_result_subtitle': 'Followed by eva_vintage',\n",
       "  'show_follow_drop_down': None,\n",
       "  'social_context': None,\n",
       "  'social_context_profile_links': None,\n",
       "  'subtitle': None}]"
      ]
     },
     "execution_count": 29,
     "metadata": {},
     "output_type": "execute_result"
    }
   ],
   "source": [
    "API.LastJson['results'][0:4]"
   ]
  },
  {
   "cell_type": "markdown",
   "metadata": {},
   "source": [
    "So when we do the hashtag search, we get the results for \"official\" tags - where we always have the formatted number of followers"
   ]
  },
  {
   "cell_type": "code",
   "execution_count": 30,
   "metadata": {},
   "outputs": [
    {
     "data": {
      "text/plain": [
       "True"
      ]
     },
     "execution_count": 30,
     "metadata": {},
     "output_type": "execute_result"
    }
   ],
   "source": [
    "API.getHashtagFeed('travel')"
   ]
  },
  {
   "cell_type": "code",
   "execution_count": 32,
   "metadata": {},
   "outputs": [
    {
     "data": {
      "text/plain": [
       "dict_keys(['ranked_items', 'items', 'num_results', 'next_max_id', 'more_available', 'auto_load_more_enabled', 'story', 'status'])"
      ]
     },
     "execution_count": 32,
     "metadata": {},
     "output_type": "execute_result"
    }
   ],
   "source": [
    "API.LastJson.keys()"
   ]
  },
  {
   "cell_type": "code",
   "execution_count": 35,
   "metadata": {},
   "outputs": [
    {
     "data": {
      "text/plain": [
       "{'can_view_more_preview_comments': False,\n",
       " 'can_viewer_reshare': True,\n",
       " 'can_viewer_save': True,\n",
       " 'caption': {'bit_flags': 0,\n",
       "  'content_type': 'comment',\n",
       "  'created_at': 1559493583,\n",
       "  'created_at_utc': 1559493583,\n",
       "  'did_report_as_spam': False,\n",
       "  'media_id': 2057503750425128513,\n",
       "  'pk': 18044603524184720,\n",
       "  'share_enabled': False,\n",
       "  'status': 'Active',\n",
       "  'text': 'Size: 35-41.\\n✈️Worldwide shipping, Fastest & safest delivery by DHL, 4-7 days to your hand. 💎authentic quality.\\n🎁wholeset packing: ribbon with box, original dustbag, paper shopping bag, receipt,etc. 📲DM or +8618620167465 WeChat/Viber/WhatsApp.\\n#onlineshopping  #bags #baglovers #luxurybags #luxurylifestyle #designer #designerbags #designerforless #fashion #fashionlover #Instafashion #fashioninsta #lifestyle #travel #traveling #holiday \\n#newbag. #shoes #highheels #heelslover #heelsaddict #highheelslover #highheelsaddict #flats',\n",
       "  'type': 1,\n",
       "  'user': {'friendship_status': {'following': False,\n",
       "    'is_bestie': False,\n",
       "    'is_restricted': False,\n",
       "    'outgoing_request': False},\n",
       "   'full_name': '',\n",
       "   'has_anonymous_profile_picture': False,\n",
       "   'is_favorite': False,\n",
       "   'is_private': False,\n",
       "   'is_unpublished': False,\n",
       "   'pk': 11624196227,\n",
       "   'profile_pic_id': '2056767032621036522_11624196227',\n",
       "   'profile_pic_url': 'https://scontent-mad1-1.cdninstagram.com/vp/d0fed9ea28f8dbae6f0e6071776fc5f2/5D9248D6/t51.2885-19/s150x150/60844635_2262411917357634_4350979313126866944_n.jpg?_nc_ht=scontent-mad1-1.cdninstagram.com',\n",
       "   'username': 'luxloverca'},\n",
       "  'user_id': 11624196227},\n",
       " 'caption_is_edited': False,\n",
       " 'client_cache_key': 'MjA1NzUwMzc1MDQyNTEyODUxMw==.2',\n",
       " 'code': 'ByNuMKIH65B',\n",
       " 'comment_count': 0,\n",
       " 'comment_likes_enabled': False,\n",
       " 'comment_threading_enabled': False,\n",
       " 'device_timestamp': 1559493571144843,\n",
       " 'filter_type': 0,\n",
       " 'has_liked': False,\n",
       " 'has_more_comments': False,\n",
       " 'id': '2057503750425128513_11624196227',\n",
       " 'image_versions2': {'candidates': [{'height': 750,\n",
       "    'url': 'https://scontent-mad1-1.cdninstagram.com/vp/0b859cc90b9bbc32a59ae3315729afae/5D872709/t51.2885-15/sh0.08/e35/s750x750/61706723_466845624061302_6781142308273869594_n.jpg?_nc_ht=scontent-mad1-1.cdninstagram.com&ig_cache_key=MjA1NzUwMzc1MDQyNTEyODUxMw%3D%3D.2',\n",
       "    'width': 750},\n",
       "   {'height': 240,\n",
       "    'url': 'https://scontent-mad1-1.cdninstagram.com/vp/18159bdd178cbdc8747a79e4659780a6/5D94C4E4/t51.2885-15/e35/s240x240/61706723_466845624061302_6781142308273869594_n.jpg?_nc_ht=scontent-mad1-1.cdninstagram.com&ig_cache_key=MjA1NzUwMzc1MDQyNTEyODUxMw%3D%3D.2',\n",
       "    'width': 240}]},\n",
       " 'like_count': 0,\n",
       " 'likers': [],\n",
       " 'max_num_visible_preview_comments': 2,\n",
       " 'media_type': 1,\n",
       " 'organic_tracking_token': 'eyJ2ZXJzaW9uIjo1LCJwYXlsb2FkIjp7ImlzX2FuYWx5dGljc190cmFja2VkIjp0cnVlLCJ1dWlkIjoiZTI3NjE2NmFlMjZlNDZhNWFkZWZjMGViNTQyYTY5YmUyMDU3NTAzNzUwNDI1MTI4NTEzIiwic2VydmVyX3Rva2VuIjoiMTU1OTQ5MzU4NTk1OXwyMDU3NTAzNzUwNDI1MTI4NTEzfDcxNDQxOTc0NDV8Zjk3OTZiMzAwOTk0NjAyNmIwYWJhYWQxMjRjOTNkNmUyYjgyMTNhZTdjYTdiNjFmMDI3MDZjYWFmYzE3ZWFiNSJ9LCJzaWduYXR1cmUiOiIifQ==',\n",
       " 'original_height': 1440,\n",
       " 'original_width': 1440,\n",
       " 'photo_of_you': False,\n",
       " 'pk': 2057503750425128513,\n",
       " 'preview_comments': [],\n",
       " 'taken_at': 1559493582,\n",
       " 'user': {'friendship_status': {'following': False,\n",
       "   'is_bestie': False,\n",
       "   'is_restricted': False,\n",
       "   'outgoing_request': False},\n",
       "  'full_name': '',\n",
       "  'has_anonymous_profile_picture': False,\n",
       "  'is_favorite': False,\n",
       "  'is_private': False,\n",
       "  'is_unpublished': False,\n",
       "  'pk': 11624196227,\n",
       "  'profile_pic_id': '2056767032621036522_11624196227',\n",
       "  'profile_pic_url': 'https://scontent-mad1-1.cdninstagram.com/vp/d0fed9ea28f8dbae6f0e6071776fc5f2/5D9248D6/t51.2885-19/s150x150/60844635_2262411917357634_4350979313126866944_n.jpg?_nc_ht=scontent-mad1-1.cdninstagram.com',\n",
       "  'username': 'luxloverca'}}"
      ]
     },
     "execution_count": 35,
     "metadata": {},
     "output_type": "execute_result"
    }
   ],
   "source": [
    "API.LastJson['items'][0]"
   ]
  },
  {
   "cell_type": "code",
   "execution_count": 37,
   "metadata": {},
   "outputs": [
    {
     "data": {
      "text/plain": [
       "{'can_view_more_preview_comments': True,\n",
       " 'can_viewer_reshare': True,\n",
       " 'can_viewer_save': True,\n",
       " 'caption': {'bit_flags': 0,\n",
       "  'content_type': 'comment',\n",
       "  'created_at': 1559480712,\n",
       "  'created_at_utc': 1559480712,\n",
       "  'did_report_as_spam': False,\n",
       "  'media_id': 2057395780909714992,\n",
       "  'pk': 17976046504255458,\n",
       "  'share_enabled': False,\n",
       "  'status': 'Active',\n",
       "  'text': 'How amazing is this view\\U0001f929🤘🏻 Cape Town, you are amazing #southafrica #capetown #tablemountain #nature #beach #amazing #travel #traveling #aroundtheworld #romaniangirl #love #travelblogger #travelgram #instapic #instagram #ontheroad',\n",
       "  'type': 1,\n",
       "  'user': {'friendship_status': {'following': False,\n",
       "    'is_bestie': False,\n",
       "    'is_restricted': False,\n",
       "    'outgoing_request': False},\n",
       "   'full_name': 'Andreea',\n",
       "   'has_anonymous_profile_picture': False,\n",
       "   'is_favorite': False,\n",
       "   'is_private': False,\n",
       "   'is_unpublished': False,\n",
       "   'pk': 211711270,\n",
       "   'profile_pic_id': '1938556939151776587_211711270',\n",
       "   'profile_pic_url': 'https://scontent-mad1-1.cdninstagram.com/vp/0c990328235ab45b84f3c3b30f48d8f3/5D89AD77/t51.2885-19/s150x150/46979377_627752644306057_8045552138681581568_n.jpg?_nc_ht=scontent-mad1-1.cdninstagram.com',\n",
       "   'username': 'andrea_ungureanu'},\n",
       "  'user_id': 211711270},\n",
       " 'caption_is_edited': False,\n",
       " 'client_cache_key': 'MjA1NzM5NTc4MDkwOTcxNDk5Mg==.2',\n",
       " 'code': 'ByNVo_rgs4w',\n",
       " 'comment_count': 22,\n",
       " 'comment_likes_enabled': False,\n",
       " 'comment_threading_enabled': False,\n",
       " 'device_timestamp': 1559480090373488,\n",
       " 'filter_type': 0,\n",
       " 'has_liked': False,\n",
       " 'has_more_comments': True,\n",
       " 'id': '2057395780909714992_211711270',\n",
       " 'image_versions2': {'candidates': [{'height': 937,\n",
       "    'url': 'https://scontent-mad1-1.cdninstagram.com/vp/f52afb45231a5bc638de67efbec7b421/5D954BFC/t51.2885-15/sh0.08/e35/p750x750/60825455_877509059249816_3440860592808322686_n.jpg?_nc_ht=scontent-mad1-1.cdninstagram.com&ig_cache_key=MjA1NzM5NTc4MDkwOTcxNDk5Mg%3D%3D.2',\n",
       "    'width': 750},\n",
       "   {'height': 300,\n",
       "    'url': 'https://scontent-mad1-1.cdninstagram.com/vp/ae80242b3fa3dd71cd3d7c6474455d79/5D9A9E11/t51.2885-15/e35/p240x240/60825455_877509059249816_3440860592808322686_n.jpg?_nc_ht=scontent-mad1-1.cdninstagram.com&ig_cache_key=MjA1NzM5NTc4MDkwOTcxNDk5Mg%3D%3D.2',\n",
       "    'width': 240}]},\n",
       " 'lat': -34.151364271285,\n",
       " 'like_count': 608,\n",
       " 'lng': 19.021435280837,\n",
       " 'location': {'address': '',\n",
       "  'city': '',\n",
       "  'external_source': 'facebook_places',\n",
       "  'facebook_places_id': 371659422869611,\n",
       "  'lat': -34.151364271285,\n",
       "  'lng': 19.021435280837,\n",
       "  'name': 'Cape Town ,south African',\n",
       "  'pk': 1024544045,\n",
       "  'short_name': 'Cape Town '},\n",
       " 'max_num_visible_preview_comments': 2,\n",
       " 'media_type': 1,\n",
       " 'next_max_id': 18040580350133311,\n",
       " 'organic_tracking_token': 'eyJ2ZXJzaW9uIjo1LCJwYXlsb2FkIjp7ImlzX2FuYWx5dGljc190cmFja2VkIjpmYWxzZSwidXVpZCI6ImUyNzYxNjZhZTI2ZTQ2YTVhZGVmYzBlYjU0MmE2OWJlMjA1NzM5NTc4MDkwOTcxNDk5MiIsInNlcnZlcl90b2tlbiI6IjE1NTk0OTM1ODU1NTZ8MjA1NzM5NTc4MDkwOTcxNDk5Mnw3MTQ0MTk3NDQ1fGVhMmZhNjRkMDdkZDM3OTQ4NzJmNjUwNzJlNzcwM2EyZjRjZDllODkwY2FmOTExMTgzN2UxMmNjZTY4Njg0MWIifSwic2lnbmF0dXJlIjoiIn0=',\n",
       " 'original_height': 1350,\n",
       " 'original_width': 1080,\n",
       " 'photo_of_you': False,\n",
       " 'pk': 2057395780909714992,\n",
       " 'preview_comments': [{'bit_flags': 0,\n",
       "   'content_type': 'comment',\n",
       "   'created_at': 1559493481,\n",
       "   'created_at_utc': 1559493481,\n",
       "   'did_report_as_spam': False,\n",
       "   'media_id': 2057395780909714992,\n",
       "   'pk': 17904513991315138,\n",
       "   'share_enabled': False,\n",
       "   'status': 'Active',\n",
       "   'text': '@morganrejaenne Its amazing♥️\\U0001f970',\n",
       "   'type': 2,\n",
       "   'user': {'full_name': 'Andreea',\n",
       "    'is_private': False,\n",
       "    'is_verified': False,\n",
       "    'pk': 211711270,\n",
       "    'profile_pic_id': '1938556939151776587_211711270',\n",
       "    'profile_pic_url': 'https://scontent-mad1-1.cdninstagram.com/vp/0c990328235ab45b84f3c3b30f48d8f3/5D89AD77/t51.2885-19/s150x150/46979377_627752644306057_8045552138681581568_n.jpg?_nc_ht=scontent-mad1-1.cdninstagram.com',\n",
       "    'username': 'andrea_ungureanu'},\n",
       "   'user_id': 211711270},\n",
       "  {'bit_flags': 0,\n",
       "   'content_type': 'comment',\n",
       "   'created_at': 1559493532,\n",
       "   'created_at_utc': 1559493532,\n",
       "   'did_report_as_spam': False,\n",
       "   'has_translation': True,\n",
       "   'media_id': 2057395780909714992,\n",
       "   'pk': 18040580350133311,\n",
       "   'share_enabled': False,\n",
       "   'status': 'Active',\n",
       "   'text': '@miranedelcu Daa, este superb',\n",
       "   'type': 2,\n",
       "   'user': {'full_name': 'Andreea',\n",
       "    'is_private': False,\n",
       "    'is_verified': False,\n",
       "    'pk': 211711270,\n",
       "    'profile_pic_id': '1938556939151776587_211711270',\n",
       "    'profile_pic_url': 'https://scontent-mad1-1.cdninstagram.com/vp/0c990328235ab45b84f3c3b30f48d8f3/5D89AD77/t51.2885-19/s150x150/46979377_627752644306057_8045552138681581568_n.jpg?_nc_ht=scontent-mad1-1.cdninstagram.com',\n",
       "    'username': 'andrea_ungureanu'},\n",
       "   'user_id': 211711270}],\n",
       " 'taken_at': 1559480711,\n",
       " 'user': {'friendship_status': {'following': False,\n",
       "   'is_bestie': False,\n",
       "   'is_restricted': False,\n",
       "   'outgoing_request': False},\n",
       "  'full_name': 'Andreea',\n",
       "  'has_anonymous_profile_picture': False,\n",
       "  'is_favorite': False,\n",
       "  'is_private': False,\n",
       "  'is_unpublished': False,\n",
       "  'pk': 211711270,\n",
       "  'profile_pic_id': '1938556939151776587_211711270',\n",
       "  'profile_pic_url': 'https://scontent-mad1-1.cdninstagram.com/vp/0c990328235ab45b84f3c3b30f48d8f3/5D89AD77/t51.2885-19/s150x150/46979377_627752644306057_8045552138681581568_n.jpg?_nc_ht=scontent-mad1-1.cdninstagram.com',\n",
       "  'username': 'andrea_ungureanu'}}"
      ]
     },
     "execution_count": 37,
     "metadata": {},
     "output_type": "execute_result"
    }
   ],
   "source": [
    "API.LastJson['ranked_items'][1]"
   ]
  },
  {
   "cell_type": "markdown",
   "metadata": {},
   "source": [
    "So here we have got something similar to what we had before - unsure what the \"rank\" means because doesn't go by likes, but it seems better than just raw items"
   ]
  },
  {
   "cell_type": "code",
   "execution_count": 38,
   "metadata": {},
   "outputs": [
    {
     "data": {
      "text/plain": [
       "True"
      ]
     },
     "execution_count": 38,
     "metadata": {},
     "output_type": "execute_result"
    }
   ],
   "source": [
    "API.getMediaLikers(2057395780909714992)"
   ]
  },
  {
   "cell_type": "code",
   "execution_count": 40,
   "metadata": {},
   "outputs": [
    {
     "data": {
      "text/plain": [
       "dict_keys(['users', 'user_count', 'status'])"
      ]
     },
     "execution_count": 40,
     "metadata": {},
     "output_type": "execute_result"
    }
   ],
   "source": [
    "API.LastJson.keys()"
   ]
  },
  {
   "cell_type": "code",
   "execution_count": 41,
   "metadata": {},
   "outputs": [
    {
     "data": {
      "text/plain": [
       "639"
      ]
     },
     "execution_count": 41,
     "metadata": {},
     "output_type": "execute_result"
    }
   ],
   "source": [
    "API.LastJson['user_count']"
   ]
  },
  {
   "cell_type": "code",
   "execution_count": 43,
   "metadata": {},
   "outputs": [
    {
     "data": {
      "text/plain": [
       "[{'full_name': 'Jovan du Plessis',\n",
       "  'is_private': False,\n",
       "  'is_verified': False,\n",
       "  'pk': 224940033,\n",
       "  'profile_pic_id': '2043146787611999136_224940033',\n",
       "  'profile_pic_url': 'https://scontent-mad1-1.cdninstagram.com/vp/d1d7da20cb3d6cd67ec5255b032439a6/5D7F0417/t51.2885-19/s150x150/59547075_2069110769872943_5600641236634435584_n.jpg?_nc_ht=scontent-mad1-1.cdninstagram.com',\n",
       "  'username': 'justvon09'},\n",
       " {'full_name': 'JAVIJ2',\n",
       "  'is_private': False,\n",
       "  'is_verified': False,\n",
       "  'latest_reel_media': 1559434140,\n",
       "  'pk': 1421570050,\n",
       "  'profile_pic_id': '2002781882877555949_1421570050',\n",
       "  'profile_pic_url': 'https://scontent-mad1-1.cdninstagram.com/vp/30743b37a68a13d177a1b0ca2a9c8bcc/5D921420/t51.2885-19/s150x150/52733587_2234406330142644_7360020571637153792_n.jpg?_nc_ht=scontent-mad1-1.cdninstagram.com',\n",
       "  'username': 'javij2'}]"
      ]
     },
     "execution_count": 43,
     "metadata": {},
     "output_type": "execute_result"
    }
   ],
   "source": [
    "API.LastJson['users'][0:2]"
   ]
  },
  {
   "cell_type": "code",
   "execution_count": 45,
   "metadata": {},
   "outputs": [
    {
     "data": {
      "text/plain": [
       "True"
      ]
     },
     "execution_count": 45,
     "metadata": {},
     "output_type": "execute_result"
    }
   ],
   "source": [
    "API.getMediaComments('2057395780909714992')"
   ]
  },
  {
   "cell_type": "code",
   "execution_count": 46,
   "metadata": {},
   "outputs": [
    {
     "data": {
      "text/plain": [
       "dict_keys(['comment_likes_enabled', 'comments', 'comment_count', 'caption', 'caption_is_edited', 'has_more_comments', 'has_more_headload_comments', 'media_header_display', 'display_realtime_typing_indicator', 'preview_comments', 'can_view_more_preview_comments', 'next_max_id', 'status'])"
      ]
     },
     "execution_count": 46,
     "metadata": {},
     "output_type": "execute_result"
    }
   ],
   "source": [
    "API.LastJson.keys()"
   ]
  },
  {
   "cell_type": "code",
   "execution_count": 47,
   "metadata": {},
   "outputs": [
    {
     "data": {
      "text/plain": [
       "[{'bit_flags': 0,\n",
       "  'comment_like_count': 1,\n",
       "  'content_type': 'comment',\n",
       "  'created_at': 1559484885,\n",
       "  'created_at_utc': 1559484885,\n",
       "  'did_report_as_spam': False,\n",
       "  'has_liked_comment': False,\n",
       "  'inline_composer_display_condition': 'never',\n",
       "  'pk': 18070961443036139,\n",
       "  'share_enabled': False,\n",
       "  'status': 'Active',\n",
       "  'text': 'My Fav 🔥🔥🔥',\n",
       "  'type': 0,\n",
       "  'user': {'full_name': 'Rejaenne Morgan',\n",
       "   'is_private': False,\n",
       "   'is_verified': False,\n",
       "   'pk': 575653554,\n",
       "   'profile_pic_id': '2044275431297514720_575653554',\n",
       "   'profile_pic_url': 'https://scontent-mad1-1.cdninstagram.com/vp/0c01a0ef5e08bfd73d47e1dd2ce97f66/5D98E57B/t51.2885-19/s150x150/59787681_842686899431896_1131561352343584768_n.jpg?_nc_ht=scontent-mad1-1.cdninstagram.com',\n",
       "   'username': 'morganrejaenne'},\n",
       "  'user_id': 575653554},\n",
       " {'bit_flags': 0,\n",
       "  'comment_like_count': 1,\n",
       "  'content_type': 'comment',\n",
       "  'created_at': 1559485674,\n",
       "  'created_at_utc': 1559485674,\n",
       "  'did_report_as_spam': False,\n",
       "  'has_liked_comment': False,\n",
       "  'inline_composer_display_condition': 'never',\n",
       "  'pk': 17993299093243434,\n",
       "  'share_enabled': False,\n",
       "  'status': 'Active',\n",
       "  'text': 'Which view 😜',\n",
       "  'type': 0,\n",
       "  'user': {'full_name': 'Roberto Junior',\n",
       "   'is_private': True,\n",
       "   'is_verified': False,\n",
       "   'pk': 315593954,\n",
       "   'profile_pic_url': 'https://scontent-mad1-1.cdninstagram.com/vp/8d4b4b037a04b396ab5b1a5fb7219ead/5D7AC62C/t51.2885-19/11327439_1488198308163414_378040229_a.jpg?_nc_ht=scontent-mad1-1.cdninstagram.com',\n",
       "   'username': 'rhmjunior'},\n",
       "  'user_id': 315593954}]"
      ]
     },
     "execution_count": 47,
     "metadata": {},
     "output_type": "execute_result"
    }
   ],
   "source": [
    "API.LastJson['comments'][0:2]"
   ]
  },
  {
   "cell_type": "code",
   "execution_count": 50,
   "metadata": {},
   "outputs": [],
   "source": [
    "total_user_feed = API.getTotalUserFeed(575653554)"
   ]
  },
  {
   "cell_type": "code",
   "execution_count": 51,
   "metadata": {},
   "outputs": [],
   "source": [
    "user_feed = API.getUserFeed(575653554)"
   ]
  },
  {
   "cell_type": "code",
   "execution_count": 52,
   "metadata": {},
   "outputs": [
    {
     "data": {
      "text/plain": [
       "483"
      ]
     },
     "execution_count": 52,
     "metadata": {},
     "output_type": "execute_result"
    }
   ],
   "source": [
    "len(total_user_feed)"
   ]
  },
  {
   "cell_type": "code",
   "execution_count": 58,
   "metadata": {},
   "outputs": [],
   "source": [
    "user_feed = API.LastJson['items']"
   ]
  },
  {
   "cell_type": "code",
   "execution_count": 59,
   "metadata": {},
   "outputs": [
    {
     "data": {
      "text/plain": [
       "18"
      ]
     },
     "execution_count": 59,
     "metadata": {},
     "output_type": "execute_result"
    }
   ],
   "source": [
    "len(user_feed)"
   ]
  },
  {
   "cell_type": "markdown",
   "metadata": {},
   "source": [
    "So going into the likes / comments from the media page seems like the best bet - especially since everything is saved there - then we can just use the generic tools to check their status\n",
    "\n",
    "Could maybe do this for all or have a `do while` loop until we find someone we want\n",
    "\n",
    "Have to check if private!\n",
    "\n",
    "Note that the get total methods aren't really what we want - they are details of all users / posts\n",
    "\n",
    "`getUsernameInfo`"
   ]
  },
  {
   "cell_type": "code",
   "execution_count": null,
   "metadata": {},
   "outputs": [],
   "source": [
    "getTotalFollowers\n",
    "getTotalFollowings"
   ]
  }
 ],
 "metadata": {
  "kernelspec": {
   "display_name": "Python 3",
   "language": "python",
   "name": "python3"
  },
  "language_info": {
   "codemirror_mode": {
    "name": "ipython",
    "version": 3
   },
   "file_extension": ".py",
   "mimetype": "text/x-python",
   "name": "python",
   "nbconvert_exporter": "python",
   "pygments_lexer": "ipython3",
   "version": "3.6.4"
  }
 },
 "nbformat": 4,
 "nbformat_minor": 2
}
